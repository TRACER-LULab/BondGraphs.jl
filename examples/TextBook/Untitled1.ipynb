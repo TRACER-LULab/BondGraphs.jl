{
 "cells": [
  {
   "cell_type": "code",
   "execution_count": null,
   "id": "e8400c4c-6d3c-41fb-826f-72266964b290",
   "metadata": {},
   "outputs": [],
   "source": []
  }
 ],
 "metadata": {
  "kernelspec": {
   "display_name": "Julia 1.6.1",
   "language": "julia",
   "name": "julia-1.6"
  },
  "language_info": {
   "file_extension": ".jl",
   "mimetype": "application/julia",
   "name": "julia",
   "version": "1.6.1"
  }
 },
 "nbformat": 4,
 "nbformat_minor": 5
}
