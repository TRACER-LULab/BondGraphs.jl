{
 "cells": [
  {
   "cell_type": "code",
   "execution_count": 11,
   "id": "bcddca46",
   "metadata": {},
   "outputs": [],
   "source": [
    "using DifferentialEquations\n",
    "using Symbolics\n",
    "using ModelingToolkit\n",
    "using BondGraphs"
   ]
  },
  {
   "cell_type": "code",
   "execution_count": 12,
   "id": "5f823f29",
   "metadata": {},
   "outputs": [
    {
     "data": {
      "text/latex": [
       "\\begin{equation}\n",
       "\\left[\n",
       "\\begin{array}{c}\n",
       "t \\\\\n",
       "e\\left( t \\right) \\\\\n",
       "f\\left( t \\right) \\\\\n",
       "\\theta\\left( t \\right) \\\\\n",
       "\\omega\\left( t \\right) \\\\\n",
       "\\end{array}\n",
       "\\right]\n",
       "\\end{equation}\n"
      ],
      "text/plain": [
       "5-element Vector{Num}:\n",
       "    t\n",
       "     e(t)\n",
       "     f(t)\n",
       " θ(t)\n",
       " ω(t)"
      ]
     },
     "execution_count": 12,
     "metadata": {},
     "output_type": "execute_result"
    }
   ],
   "source": [
    "@variables t e(t) f(t) θ(t) ω(t)"
   ]
  },
  {
   "cell_type": "code",
   "execution_count": null,
   "id": "0111aefe",
   "metadata": {},
   "outputs": [],
   "source": []
  }
 ],
 "metadata": {
  "kernelspec": {
   "display_name": "Julia 1.6.1",
   "language": "julia",
   "name": "julia-1.6"
  },
  "language_info": {
   "file_extension": ".jl",
   "mimetype": "application/julia",
   "name": "julia",
   "version": "1.6.1"
  }
 },
 "nbformat": 4,
 "nbformat_minor": 5
}
