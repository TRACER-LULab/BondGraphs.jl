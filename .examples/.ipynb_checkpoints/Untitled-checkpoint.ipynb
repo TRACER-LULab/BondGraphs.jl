{
 "cells": [
  {
   "cell_type": "code",
   "execution_count": 1,
   "id": "e7d8778d",
   "metadata": {},
   "outputs": [],
   "source": [
    "] activate /home/carson/research/BondGraphs.jl/venv"
   ]
  },
  {
   "cell_type": "code",
   "execution_count": null,
   "id": "571563a5",
   "metadata": {},
   "outputs": [],
   "source": [
    "using BondGraphs\n",
    "using ModelingToolkit\n",
    "using DifferentialEquations\n",
    "using Plots\n",
    "using Symbolics\n",
    "using SymbolicUtils\n",
    "using Unitful"
   ]
  },
  {
   "cell_type": "code",
   "execution_count": null,
   "id": "279ee35b",
   "metadata": {},
   "outputs": [],
   "source": []
  }
 ],
 "metadata": {
  "kernelspec": {
   "display_name": "Julia 1.6.1",
   "language": "julia",
   "name": "julia-1.6"
  },
  "language_info": {
   "file_extension": ".jl",
   "mimetype": "application/julia",
   "name": "julia",
   "version": "1.6.1"
  }
 },
 "nbformat": 4,
 "nbformat_minor": 5
}
